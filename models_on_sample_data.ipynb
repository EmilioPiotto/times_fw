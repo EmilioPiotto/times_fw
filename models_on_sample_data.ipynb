{
 "cells": [
  {
   "cell_type": "code",
   "execution_count": 1,
   "metadata": {},
   "outputs": [],
   "source": [
    "import torch\n",
    "import torch.nn as nn\n",
    "import torch.optim as optim\n",
    "from backend.data_processing_service import DataProcessingService\n",
    "\n",
    "# Initialize DataProcessingService\n",
    "data_processor = DataProcessingService(seq_length=10, pred_window=1, batch_size=10)\n",
    "data = data_processor.get_sample_data(length=50)\n",
    "\n",
    "# Normalize the data\n",
    "data_normalized, scaler = data_processor.normalize_data(data)\n",
    "\n",
    "# Create sequences\n",
    "x_data, y_data = data_processor.create_sequences(data_normalized)\n",
    "\n",
    "# Split data into training and test sets\n",
    "x_train, x_test, y_train, y_test = data_processor.split_data(x_data, y_data, train_ratio=0.8)\n",
    "\n",
    "# Convert data to PyTorch tensors\n",
    "x_train = torch.tensor(x_train, dtype=torch.float32)\n",
    "y_train = torch.tensor(y_train, dtype=torch.float32)\n",
    "x_test = torch.tensor(x_test, dtype=torch.float32)\n",
    "y_test = torch.tensor(y_test, dtype=torch.float32)\n"
   ]
  },
  {
   "cell_type": "code",
   "execution_count": 2,
   "metadata": {},
   "outputs": [
    {
     "name": "stdout",
     "output_type": "stream",
     "text": [
      "torch.Size([32, 10, 1]) torch.Size([32, 1, 1]) torch.Size([8, 10, 1]) torch.Size([8, 1, 1])\n"
     ]
    }
   ],
   "source": [
    "print(x_train.shape,y_train.shape,x_test.shape,y_test.shape)"
   ]
  },
  {
   "cell_type": "code",
   "execution_count": 4,
   "metadata": {},
   "outputs": [
    {
     "name": "stdout",
     "output_type": "stream",
     "text": [
      "Epoch [1/10], Loss: 0.1316\n",
      "Epoch [2/10], Loss: 0.0833\n",
      "Epoch [3/10], Loss: 0.0518\n",
      "Epoch [4/10], Loss: 0.0324\n",
      "Epoch [5/10], Loss: 0.0219\n",
      "Checkpoint saved at epoch 5\n",
      "Epoch [6/10], Loss: 0.0166\n",
      "Epoch [7/10], Loss: 0.0142\n",
      "Epoch [8/10], Loss: 0.0131\n",
      "Epoch [9/10], Loss: 0.0126\n",
      "Epoch [10/10], Loss: 0.0123\n",
      "Checkpoint saved at epoch 10\n",
      "Test Loss: 0.0155\n"
     ]
    },
    {
     "data": {
      "text/plain": [
       "0.01554646158547257"
      ]
     },
     "execution_count": 4,
     "metadata": {},
     "output_type": "execute_result"
    }
   ],
   "source": [
    "from backend.model_service import LinRegNN\n",
    "\n",
    "# Initialize the model\n",
    "input_size = data_processor.seq_length\n",
    "output_size = data_processor.pred_window\n",
    "model = LinRegNN(input_size, output_size)\n",
    "\n",
    "\n",
    "# Define loss function and optimizer\n",
    "criterion = nn.MSELoss()\n",
    "optimizer = optim.Adam(model.parameters(), lr=0.001)\n",
    "\n",
    "# Training loop\n",
    "x_train_rs,x_test_rs= model.reshape_input(x_train),model.reshape_input(x_test)\n",
    "epochs = 10\n",
    "model.train_loop(model, criterion, optimizer, x_train_rs, y_train, epochs,  directory = \"backend/checkpoints/lr01_\")\n",
    "# Eval\n",
    "model.evaluation(model, x_test_rs, y_test, criterion)"
   ]
  },
  {
   "cell_type": "code",
   "execution_count": 7,
   "metadata": {},
   "outputs": [
    {
     "name": "stdout",
     "output_type": "stream",
     "text": [
      "Epoch [2/10], Loss: 0.0446\n",
      "Epoch [4/10], Loss: 0.0203\n",
      "Epoch [6/10], Loss: 0.0133\n",
      "Epoch [8/10], Loss: 0.0115\n",
      "Epoch [10/10], Loss: 0.0108\n",
      "Test Loss: 0.0334\n"
     ]
    },
    {
     "data": {
      "text/plain": [
       "0.03339563889312558"
      ]
     },
     "execution_count": 7,
     "metadata": {},
     "output_type": "execute_result"
    }
   ],
   "source": [
    "from backend.model_service import SimpleNN\n",
    "\n",
    "# Initialize the model\n",
    "input_size = data_processor.seq_length\n",
    "hidden_size = 10\n",
    "output_size = data_processor.pred_window\n",
    "model = SimpleNN(input_size, hidden_size, output_size)\n",
    "\n",
    "\n",
    "# Define loss function and optimizer\n",
    "criterion = nn.MSELoss()\n",
    "optimizer = optim.Adam(model.parameters(), lr=0.001)\n",
    "\n",
    "# Training loop\n",
    "x_train_rs,x_test_rs= model.reshape_input(x_train),model.reshape_input(x_test)\n",
    "epochs = 10\n",
    "model.train_loop(model, criterion, optimizer, x_train_rs, y_train, epochs)\n",
    "# Eval\n",
    "model.evaluation(model, x_test_rs, y_test, criterion)"
   ]
  },
  {
   "cell_type": "code",
   "execution_count": 8,
   "metadata": {},
   "outputs": [
    {
     "name": "stdout",
     "output_type": "stream",
     "text": [
      "Epoch [2/10], Loss: 0.1837\n",
      "Epoch [4/10], Loss: 0.1277\n",
      "Epoch [6/10], Loss: 0.0745\n",
      "Epoch [8/10], Loss: 0.0184\n",
      "Epoch [10/10], Loss: 0.0133\n",
      "Test Loss: 0.0838\n"
     ]
    },
    {
     "data": {
      "text/plain": [
       "0.08381811203435063"
      ]
     },
     "execution_count": 8,
     "metadata": {},
     "output_type": "execute_result"
    }
   ],
   "source": [
    "from backend.model_service import SimpleLSTM\n",
    "\n",
    "input_size = 1\n",
    "hidden_size = 10\n",
    "output_size = 1\n",
    "model = SimpleLSTM(input_size, hidden_size, output_size)\n",
    "\n",
    "# Define loss function and optimizer\n",
    "criterion = nn.MSELoss()\n",
    "optimizer = optim.Adam(model.parameters(), lr=0.001)\n",
    "\n",
    "# Training loop\n",
    "x_train_rs, x_test_rs = model.reshape_input(x_train),model.reshape_input(x_test)\n",
    "epochs = 10\n",
    "model.train_loop(model, criterion, optimizer, x_train_rs, y_train, epochs)\n",
    "# Eval\n",
    "model.evaluation(model, x_test_rs, y_test, criterion)"
   ]
  },
  {
   "cell_type": "code",
   "execution_count": null,
   "metadata": {},
   "outputs": [],
   "source": []
  }
 ],
 "metadata": {
  "kernelspec": {
   "display_name": ".venv",
   "language": "python",
   "name": "python3"
  },
  "language_info": {
   "codemirror_mode": {
    "name": "ipython",
    "version": 3
   },
   "file_extension": ".py",
   "mimetype": "text/x-python",
   "name": "python",
   "nbconvert_exporter": "python",
   "pygments_lexer": "ipython3",
   "version": "3.10.11"
  }
 },
 "nbformat": 4,
 "nbformat_minor": 2
}
